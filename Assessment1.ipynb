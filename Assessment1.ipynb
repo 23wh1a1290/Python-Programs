{
  "nbformat": 4,
  "nbformat_minor": 0,
  "metadata": {
    "colab": {
      "provenance": []
    },
    "kernelspec": {
      "name": "python3",
      "display_name": "Python 3"
    },
    "language_info": {
      "name": "python"
    }
  },
  "cells": [
    {
      "cell_type": "code",
      "execution_count": null,
      "metadata": {
        "id": "v9IFZYX7F4eq",
        "colab": {
          "base_uri": "https://localhost:8080/"
        },
        "outputId": "21c9c622-5982-4cfc-e978-85ba4c4bd034"
      },
      "outputs": [
        {
          "name": "stdout",
          "output_type": "stream",
          "text": [
            "enter your name: N Deepika\n",
            "enter your age: 18\n",
            "enter your city: Hyderabad\n",
            "enter your gender: Female\n",
            "enter your nationality: Indian\n"
          ]
        }
      ],
      "source": [
        "#biodata\n",
        "name = input(\"enter your name: \")\n",
        "age = int(input(\"enter your age: \"))\n",
        "city = input(\"enter your city: \")\n",
        "gender = input(\"enter your gender: \")\n",
        "nationality = input(\"enter your nationality: \")\n"
      ]
    },
    {
      "cell_type": "code",
      "source": [
        "#numbers divisible by 7 and multiples of 5 between 1500 and 2700\n",
        "n = []\n",
        "for i in range(1499, 2701):\n",
        "    if(i % 7==0 and i % 5 == 0):\n",
        "        n.append(str(i))\n",
        "print(','.join(n))"
      ],
      "metadata": {
        "id": "BEK_ZZapSfoW",
        "colab": {
          "base_uri": "https://localhost:8080/"
        },
        "outputId": "b09ae75e-7b27-4846-f446-993a7cf2dc11"
      },
      "execution_count": null,
      "outputs": [
        {
          "output_type": "stream",
          "name": "stdout",
          "text": [
            "1505,1540,1575,1610,1645,1680,1715,1750,1785,1820,1855,1890,1925,1960,1995,2030,2065,2100,2135,2170,2205,2240,2275,2310,2345,2380,2415,2450,2485,2520,2555,2590,2625,2660,2695\n"
          ]
        }
      ]
    },
    {
      "cell_type": "code",
      "source": [
        "#wap to enter the marks of 5 sub.Compute total and average\n",
        "s1 = int(input())\n",
        "s2 = int(input())\n",
        "s3 = int(input())\n",
        "s4 = int(input())\n",
        "s5 = int(input())\n",
        "\n",
        "tot = s1+s2+s3+s4+s5\n",
        "print(\"Total marks: \",tot)\n",
        "avg = tot / 5\n",
        "print(\"Average: \", avg)"
      ],
      "metadata": {
        "colab": {
          "base_uri": "https://localhost:8080/"
        },
        "id": "VhL4_BXVWQDM",
        "outputId": "f0d7730d-32a3-44ae-bb0c-e8797abfc400"
      },
      "execution_count": null,
      "outputs": [
        {
          "output_type": "stream",
          "name": "stdout",
          "text": [
            "90\n",
            "78\n",
            "96\n",
            "85\n",
            "70\n",
            "Total marks:  419\n",
            "Average:  83.8\n"
          ]
        }
      ]
    },
    {
      "cell_type": "code",
      "source": [
        "#calculator using chained conditionals\n",
        "a = int(input(\"Enter the first number: \" ))\n",
        "b = int(input(\"Enter the second number: \"))\n",
        "operator = input(\"Enter the type of operator: \")\n",
        "if operator == \"+\":\n",
        "    print(a + b)\n",
        "elif operator == \"-\":\n",
        "    print(a - b)\n",
        "elif operator == \"*\":\n",
        "    print(a * b)\n",
        "elif operator == \"/\":\n",
        "    print(a / b)\n",
        "elif operator == \"//\":\n",
        "    print(a // b)\n",
        "elif operator == \"%\":\n",
        "    print(a % b)\n",
        "\n",
        "\n"
      ],
      "metadata": {
        "colab": {
          "base_uri": "https://localhost:8080/"
        },
        "id": "soO8aTyqYkw3",
        "outputId": "9bd983bd-c6d7-4539-a021-a85ca07189ef"
      },
      "execution_count": null,
      "outputs": [
        {
          "output_type": "stream",
          "name": "stdout",
          "text": [
            "Enter the first number: 6\n",
            "Enter the second number: 9\n",
            "Enter the type of operator: %\n",
            "6\n"
          ]
        }
      ]
    },
    {
      "cell_type": "code",
      "source": [
        "# square of a number and square root\n",
        "n = int(input())\n",
        "print(n**2)  #square of a number\n",
        "sqr_root = n ** 0.5\n",
        "print(sqr_root)"
      ],
      "metadata": {
        "colab": {
          "base_uri": "https://localhost:8080/"
        },
        "id": "GIFSHsiVbApb",
        "outputId": "e4089fd2-081e-419a-9498-2bf7673a174e"
      },
      "execution_count": null,
      "outputs": [
        {
          "output_type": "stream",
          "name": "stdout",
          "text": [
            "56\n",
            "3136\n",
            "7.483314773547883\n"
          ]
        }
      ]
    },
    {
      "cell_type": "code",
      "source": [
        "# printing grades based on marks\n",
        "marks = int(input(\"enter the marks: \"))\n",
        "if(marks >= 90):\n",
        "    print(\"Grade: A\")\n",
        "elif(marks <= 89 and marks > 70):\n",
        "    print(\"Grade: B\")\n",
        "elif(marks <= 69 and marks > 50):\n",
        "    print(\"Grade: C\")\n",
        "else:\n",
        "    print(\"Fail\")\n"
      ],
      "metadata": {
        "colab": {
          "base_uri": "https://localhost:8080/"
        },
        "id": "E4TK-_HMRmXN",
        "outputId": "0f25dab8-a8cb-4250-d7a9-a5fe26e88911"
      },
      "execution_count": null,
      "outputs": [
        {
          "output_type": "stream",
          "name": "stdout",
          "text": [
            "enter the marks: 84\n",
            "Grade: B\n"
          ]
        }
      ]
    },
    {
      "cell_type": "code",
      "source": [
        "# leap year or not\n",
        "year = int(input(\"year: \"))\n",
        "if(year % 400 == 0 and year % 100 == 0):\n",
        "    print(\"{0} is a leap year\" .format(year))\n",
        "elif(year % 4 == 0 and year % 100!= 0):\n",
        "    print(\"{0} is a leap year \".format(year))\n",
        "else:\n",
        "    print(\"{0} is not a leap year\" . format(year))"
      ],
      "metadata": {
        "colab": {
          "base_uri": "https://localhost:8080/"
        },
        "id": "g1ASC2ZpU1HE",
        "outputId": "034dd5b4-0bc5-4d54-9cb1-d2ac9aec0f07"
      },
      "execution_count": null,
      "outputs": [
        {
          "output_type": "stream",
          "name": "stdout",
          "text": [
            "year: 2025\n",
            "2025 is not a leap year\n"
          ]
        }
      ]
    },
    {
      "cell_type": "code",
      "source": [
        "#greatest among three numbers\n",
        "n1 = int(input(\"enter the first number: \"))\n",
        "n2 = int(input(\"enter the second number: \"))\n",
        "n3 = int(input(\"enter the third number: \"))\n",
        "if(n1 > n2 and n1 > n3):\n",
        "    print(\"{0} is greater\" .format(n1))\n",
        "elif(n2 > n1 and n2 > n3):\n",
        "    print(\"{0} is greater\" .format(n2))\n",
        "else:\n",
        "    print(\"{0} is greater\". format(n3))\n"
      ],
      "metadata": {
        "colab": {
          "base_uri": "https://localhost:8080/"
        },
        "id": "Ctu7gc55XApa",
        "outputId": "c7422bd8-3843-45d0-bd36-48a648ac40bd"
      },
      "execution_count": null,
      "outputs": [
        {
          "output_type": "stream",
          "name": "stdout",
          "text": [
            "enter the first number: 78\n",
            "enter the second number: 45\n",
            "enter the third number: 90\n",
            "90 is greater\n"
          ]
        }
      ]
    },
    {
      "cell_type": "code",
      "source": [
        "#triangle types\n",
        "x = int(input(\"side 1: \"))\n",
        "y = int(input(\"side 2: \"))\n",
        "z = int(input(\"side 3: \"))\n",
        "if x == y == z:\n",
        "        print(\"Equilateral Triangle\")\n",
        "elif x == y or y == z or z == x:\n",
        "        print(\"Isosceles Triangle\")\n",
        "else:\n",
        "        print(\"Scalene Triangle\")\n",
        ""
      ],
      "metadata": {
        "id": "pEb6vNvfZEWv",
        "colab": {
          "base_uri": "https://localhost:8080/"
        },
        "outputId": "cb9edc09-9f1a-4064-e1cc-ade3800884d5"
      },
      "execution_count": 3,
      "outputs": [
        {
          "output_type": "stream",
          "name": "stdout",
          "text": [
            "side 1: 5\n",
            "side 2: 9\n",
            "side 3: 5\n",
            "Isosceles Triangle\n"
          ]
        }
      ]
    },
    {
      "cell_type": "code",
      "source": [
        "# swapping of numbers\n",
        "a = int(input())\n",
        "b = int(input())\n",
        "a = a + b\n",
        "b = a - b\n",
        "a = a - b\n",
        "print(\"a: \",a)\n",
        "print(\"b: \",b)"
      ],
      "metadata": {
        "colab": {
          "base_uri": "https://localhost:8080/"
        },
        "id": "b8qcsbgZAKw_",
        "outputId": "4fce2efe-7d8f-4bba-cb8c-dd570b00321b"
      },
      "execution_count": 7,
      "outputs": [
        {
          "output_type": "stream",
          "name": "stdout",
          "text": [
            "4\n",
            "6\n",
            "a:  6\n",
            "b:  4\n"
          ]
        }
      ]
    },
    {
      "cell_type": "code",
      "source": [
        "#area of triangle using heron's formula\n",
        "a = int(input(\"enter first side: \"))\n",
        "b = int(input(\"enter second side: \"))\n",
        "c = int(input(\"enter third side: \"))\n",
        "s = (a + b + c)/2\n",
        "area = s*((s-a)*(s-b)*(s-c))\n",
        "print(area)"
      ],
      "metadata": {
        "colab": {
          "base_uri": "https://localhost:8080/"
        },
        "id": "Azl_gz_6K9tK",
        "outputId": "92a32a0f-951b-4242-e7bc-fba7ed581761"
      },
      "execution_count": 9,
      "outputs": [
        {
          "output_type": "stream",
          "name": "stdout",
          "text": [
            "enter first side: 3\n",
            "enter second side: 6\n",
            "enter third side: 7\n",
            "80.0\n"
          ]
        }
      ]
    },
    {
      "cell_type": "code",
      "source": [
        "n = int(input(\"enter number: \"))\n",
        "for i in range(1, n+1):\n",
        "    if i % 3 == 0 and i % 5 == 0:\n",
        "        print(\"FizzBuzz\")\n",
        "    elif i % 3 == 0:\n",
        "        print(\"Fizz\")\n",
        "    elif i % 5 == 0:\n",
        "        print(\"Buzz\")\n",
        "    else:\n",
        "        print(str(i))\n"
      ],
      "metadata": {
        "colab": {
          "base_uri": "https://localhost:8080/"
        },
        "id": "7ZPoLxt0g3ie",
        "outputId": "8e82389d-2429-44e2-9557-cb352513fc0f"
      },
      "execution_count": 25,
      "outputs": [
        {
          "output_type": "stream",
          "name": "stdout",
          "text": [
            "enter number: 10\n",
            "1\n",
            "2\n",
            "Fizz\n",
            "4\n",
            "Buzz\n",
            "Fizz\n",
            "7\n",
            "8\n",
            "Fizz\n",
            "Buzz\n"
          ]
        }
      ]
    },
    {
      "cell_type": "code",
      "source": [
        "def triangle(a, b, c):\n",
        "    sa = a ** 2\n",
        "    sb = b ** 2\n",
        "    sc = c ** 2\n",
        "    if (sa == sc + sb or sb == sa+sc or sc == sa+sb):\n",
        "        print(\"Right-angled triangle\")\n",
        "    elif (sa > sc + sb or sb > sa+sc or sc > sa+sb):\n",
        "        print(\"Obtuse-angled triangle\")\n",
        "    else:\n",
        "        print(\"Acute-angled triangle\")\n",
        "\n",
        "a = int(input(\"Enter side a: \"))\n",
        "b = int(input(\"Enter side b: \"))\n",
        "c = int(input(\"Enter side c: \"))\n",
        "triangle(a, b, c)"
      ],
      "metadata": {
        "colab": {
          "base_uri": "https://localhost:8080/"
        },
        "id": "dT2UhdSjpxG_",
        "outputId": "00fa54e9-2d77-437c-e1be-864db640e3d2"
      },
      "execution_count": 30,
      "outputs": [
        {
          "output_type": "stream",
          "name": "stdout",
          "text": [
            "Enter side a: 12\n",
            "Enter side b: 7\n",
            "Enter side c: 9\n",
            "Obtuse-angled triangle\n"
          ]
        }
      ]
    },
    {
      "cell_type": "code",
      "source": [],
      "metadata": {
        "id": "qd8auvLdmLST"
      },
      "execution_count": null,
      "outputs": []
    }
  ]
}