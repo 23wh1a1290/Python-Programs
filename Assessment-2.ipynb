{
  "nbformat": 4,
  "nbformat_minor": 0,
  "metadata": {
    "colab": {
      "provenance": []
    },
    "kernelspec": {
      "name": "python3",
      "display_name": "Python 3"
    },
    "language_info": {
      "name": "python"
    }
  },
  "cells": [
    {
      "cell_type": "code",
      "execution_count": null,
      "metadata": {
        "id": "oPS3rI_m3sjw",
        "colab": {
          "base_uri": "https://localhost:8080/"
        },
        "outputId": "13faad8c-e2fc-420b-df58-caf9cdeb05a4"
      },
      "outputs": [
        {
          "output_type": "stream",
          "name": "stdout",
          "text": [
            "[[1, 4, 9, 16, 25, 36, 49, 64, 81, 100, 121, 144, 169, 196, 225, 256, 289, 324, 361, 400]]\n"
          ]
        }
      ],
      "source": [
        "# loops\n",
        "#square of a number in a given range\n",
        "n = list()\n",
        "for i in range(1, 21):\n",
        "    n.append(i**2)\n",
        "print([n])"
      ]
    },
    {
      "cell_type": "code",
      "source": [
        "#sum of the given digits\n",
        "n = input(\"enter number: \")\n",
        "sum = 0\n",
        "for i in n:\n",
        "    sum += int(i)\n",
        "print(sum)"
      ],
      "metadata": {
        "colab": {
          "base_uri": "https://localhost:8080/"
        },
        "id": "YykJgXBL-U2c",
        "outputId": "fe1650ea-d29d-4366-f471-fee864c97416"
      },
      "execution_count": null,
      "outputs": [
        {
          "output_type": "stream",
          "name": "stdout",
          "text": [
            "enter number: 234\n",
            "9\n"
          ]
        }
      ]
    },
    {
      "cell_type": "code",
      "source": [
        "#factorial of a number\n",
        "n = int(input(\"enter number: \"))\n",
        "fact = 1\n",
        "for i in range(1, n+1):\n",
        "    fact *= i\n",
        "print(fact)"
      ],
      "metadata": {
        "colab": {
          "base_uri": "https://localhost:8080/"
        },
        "id": "RANN9GDkFime",
        "outputId": "a19f3ff0-28c1-4b22-eccd-65e725fc21b4"
      },
      "execution_count": null,
      "outputs": [
        {
          "output_type": "stream",
          "name": "stdout",
          "text": [
            "enter number: 5\n",
            "120\n"
          ]
        }
      ]
    },
    {
      "cell_type": "code",
      "source": [
        "#patterns\n",
        "i = 1\n",
        "j = 1\n",
        "for i in range(1, n+1):\n",
        "    for j in range(1, i+1):\n",
        "        print(i, end = \" \" )\n",
        "    print()"
      ],
      "metadata": {
        "colab": {
          "base_uri": "https://localhost:8080/"
        },
        "id": "ipmnZKxPGF-N",
        "outputId": "eabf5614-5fe6-4370-c077-86ad2916399a"
      },
      "execution_count": null,
      "outputs": [
        {
          "output_type": "stream",
          "name": "stdout",
          "text": [
            "1 \n",
            "2 2 \n",
            "3 3 3 \n",
            "4 4 4 4 \n",
            "5 5 5 5 5 \n",
            "6 6 6 6 6 6 \n"
          ]
        }
      ]
    },
    {
      "cell_type": "code",
      "source": [
        "#star pattern\n",
        "i = 1\n",
        "j = 1\n",
        "for i in range(1, n+1):\n",
        "    for j in range(1, i+1):\n",
        "        print(\"*\", end = \" \" )\n",
        "    print()"
      ],
      "metadata": {
        "colab": {
          "base_uri": "https://localhost:8080/"
        },
        "id": "lH8WWkZ0OLrm",
        "outputId": "7b9fa60c-1490-4c99-8be6-028d112885c3"
      },
      "execution_count": null,
      "outputs": [
        {
          "output_type": "stream",
          "name": "stdout",
          "text": [
            "* \n",
            "* * \n",
            "* * * \n",
            "* * * * \n",
            "* * * * * \n",
            "* * * * * * \n"
          ]
        }
      ]
    },
    {
      "cell_type": "code",
      "source": [
        "#check whether the number is present in a given list\n",
        "n = int(input())\n",
        "for i in range(1,20):\n",
        "    if i == n:\n",
        "        print(str(i))\n",
        "        break\n",
        "    else:\n",
        "        print(\"none\")\n"
      ],
      "metadata": {
        "id": "TMNsH8IFOkCJ"
      },
      "execution_count": null,
      "outputs": []
    },
    {
      "cell_type": "code",
      "source": [
        "#palindrome or not\n",
        "n = int(input())\n",
        "rev = 0\n",
        "temp = n\n",
        "while n > 0:\n",
        "    rem = n % 10\n",
        "    rev = rev * 10 + rem\n",
        "    n =n // 10\n",
        "if temp == rev:\n",
        "    print(f\"{rev} is palindrome. \" )\n",
        "else:\n",
        "    print(\"not a palindrome\")\n",
        "\n"
      ],
      "metadata": {
        "colab": {
          "base_uri": "https://localhost:8080/"
        },
        "id": "7IOou_zSFyL8",
        "outputId": "bc69af4d-7fcc-4c23-a2ca-4d9f4c80d91a"
      },
      "execution_count": null,
      "outputs": [
        {
          "output_type": "stream",
          "name": "stdout",
          "text": [
            "212\n",
            "212 is palindrome. \n"
          ]
        }
      ]
    },
    {
      "cell_type": "code",
      "source": [
        "#fibonacci series\n",
        "n = int(input(\"enter the last term: \"))\n",
        "first = 0\n",
        "second = 1\n",
        "for i in range(1, n+1):\n",
        "    third_term = (n-first) + (n-second)\n",
        "print(third_term)"
      ],
      "metadata": {
        "colab": {
          "base_uri": "https://localhost:8080/"
        },
        "id": "qptP08eCJmed",
        "outputId": "75a77525-f527-4313-cd11-fbd688700a5a"
      },
      "execution_count": null,
      "outputs": [
        {
          "output_type": "stream",
          "name": "stdout",
          "text": [
            "enter the last term: 8\n",
            "15\n"
          ]
        }
      ]
    },
    {
      "cell_type": "code",
      "source": [
        "#guess a random number\n",
        "import random\n",
        "guess_num = random.randint(1, 10)\n",
        "num = 0\n",
        "while num != guess_num:\n",
        "    guess_num = int(input(\"enter the number in given range: \"))\n",
        "print(\"correct guess\")\n",
        "break\n"
      ],
      "metadata": {
        "colab": {
          "base_uri": "https://localhost:8080/"
        },
        "id": "zbW1kCNIjlO_",
        "outputId": "7c46f7be-fc49-4a11-a181-05c15ff0effe"
      },
      "execution_count": null,
      "outputs": [
        {
          "name": "stdout",
          "output_type": "stream",
          "text": [
            "enter the number in given range: 4\n",
            "enter the number in given range: 5\n",
            "enter the number in given range: 6\n"
          ]
        }
      ]
    },
    {
      "cell_type": "code",
      "source": [
        "import random\n",
        "\n",
        "target_num, guess_num = random.randint(1, 10), 0\n",
        "while target_num != guess_num:\n",
        "    guess_num = int(input('Guess a number between 1 and 10 until you get it right : '))\n",
        "\n",
        "print('Well guessed!')"
      ],
      "metadata": {
        "id": "_oahy6ILs7QI"
      },
      "execution_count": null,
      "outputs": []
    },
    {
      "cell_type": "code",
      "source": [
        "square_list = [num**2 for num in range(1, 21)]\n",
        "\n",
        "print(\"Squares of numbers between 1 and 20:\")\n",
        "print(square_list)\n"
      ],
      "metadata": {
        "colab": {
          "base_uri": "https://localhost:8080/"
        },
        "id": "nBqFEpviCnJ1",
        "outputId": "964448f0-ef51-4bbc-aefd-b34a9db3c0d1"
      },
      "execution_count": null,
      "outputs": [
        {
          "output_type": "stream",
          "name": "stdout",
          "text": [
            "Squares of numbers between 1 and 20:\n",
            "[1, 4, 9, 16, 25, 36, 49, 64, 81, 100, 121, 144, 169, 196, 225, 256, 289, 324, 361, 400]\n"
          ]
        }
      ]
    },
    {
      "cell_type": "code",
      "source": [
        "#armstrong\n",
        "def is_armstrong(n):\n",
        "    temp =n\n",
        "    sum = 0\n",
        "    while(n != 0):\n",
        "        rem = n % 10\n",
        "        sum = sum + rem * rem * rem\n",
        "        n //= 10\n",
        "    return (sum == temp)\n",
        "n = int(input(\"enter a number: \"))\n",
        "if is_armstrong(n):\n",
        "    print(f'{n} is armstrong')\n",
        "else:\n",
        "    print(f'{n} is not prime')"
      ],
      "metadata": {
        "id": "yreBKxQ_8iZk"
      },
      "execution_count": null,
      "outputs": []
    },
    {
      "cell_type": "code",
      "source": [
        " #prime or not\n",
        "n = int(input(\"enter a number: \"))\n",
        "if n > 1:\n",
        "    is_prime = True\n",
        "    for i in range(2, int(n/2)+1):\n",
        "        if n % 2 == 0:\n",
        "            is_prime = False\n",
        "            break\n",
        "    if is_prime:\n",
        "         print(f'{n} is a prime number')\n",
        "    else:\n",
        "        print(f'{n} is not a prime number')\n",
        "\n"
      ],
      "metadata": {
        "id": "bN36Rv8r6t9E",
        "colab": {
          "base_uri": "https://localhost:8080/"
        },
        "outputId": "1399ca6a-dfba-435d-e4bb-6b734e88ddaa"
      },
      "execution_count": null,
      "outputs": [
        {
          "output_type": "stream",
          "name": "stdout",
          "text": [
            "enter a number: 7\n",
            "7 is a prime number\n"
          ]
        }
      ]
    },
    {
      "cell_type": "code",
      "source": [
        "#perfect number\n",
        "def perfect_num(num):\n",
        "    sum = 0\n",
        "    for i in range(1, num):\n",
        "        if num % i == 0:\n",
        "            sum += i\n",
        "    return sum\n",
        "num = int(input(\"enter a number: \"))\n",
        "if(num == perfect_num(num)):\n",
        "    print(f'{num} is a perfect number')\n",
        "else:\n",
        "    print(f'{num} is not perfect number')"
      ],
      "metadata": {
        "id": "4oWrPyJwAAb2",
        "colab": {
          "base_uri": "https://localhost:8080/"
        },
        "outputId": "ecaf2d37-41ec-45d0-ae15-b2c64f1f2622"
      },
      "execution_count": null,
      "outputs": [
        {
          "output_type": "stream",
          "name": "stdout",
          "text": [
            "enter a number: 28\n",
            "28 is a perfect number\n"
          ]
        }
      ]
    },
    {
      "cell_type": "code",
      "source": [
        "def factor(num):\n",
        "    factors = []\n",
        "    for i in range(1, num):\n",
        "        if num % i == 0:\n",
        "            factors.append(i)\n",
        "    return factors\n",
        "\n",
        "def perfect_number(num):\n",
        "    factors = factor(num)\n",
        "    sum_factors = sum(factors)\n",
        "    return sum_factors == num\n",
        "\n",
        "number = int(input(\"Enter a number: \"))\n",
        "\n",
        "factors = find_factors(number)\n",
        "is_perfect = perfect_number(number)\n",
        "\n",
        "print(f\"Factors of {number}: {factors}\")\n",
        "if is_perfect:\n",
        "    print(f\"{number} is a perfect number.\")\n",
        "else:\n",
        "    print(f\"{number} is not a perfect number.\")\n"
      ],
      "metadata": {
        "colab": {
          "base_uri": "https://localhost:8080/"
        },
        "id": "YcvewO4EALq8",
        "outputId": "a001dd31-da0d-4af8-a125-51c23c8772fa"
      },
      "execution_count": null,
      "outputs": [
        {
          "output_type": "stream",
          "name": "stdout",
          "text": [
            "Enter a number: 28\n",
            "Factors of 28: [1, 2, 4, 7, 14]\n",
            "28 is a perfect number.\n"
          ]
        }
      ]
    },
    {
      "cell_type": "code",
      "source": [
        "#Implement a python program which uses a Boolean function isdivisible to check the divisibility of two numbers.\n",
        "def is_divisible(n , divisor):\n",
        "    return n % divisor == 0\n",
        "n = int(input(\"enter number: \"))\n",
        "div = int(input(\"enter the divisor: \"))\n",
        "res = is_divisible(n, div)\n",
        "if res:\n",
        "    print(f'{n} is divisible by {div}')\n",
        "else:\n",
        "    print(f'{n} is not divisible by {div}')"
      ],
      "metadata": {
        "colab": {
          "base_uri": "https://localhost:8080/"
        },
        "id": "Z4YC3daOBRhT",
        "outputId": "428d8aee-9b60-4de5-e517-e2882eca00f1"
      },
      "execution_count": null,
      "outputs": [
        {
          "output_type": "stream",
          "name": "stdout",
          "text": [
            "enter number: 64\n",
            "enter the divisor: 8\n",
            "64 is divisible by 8\n"
          ]
        }
      ]
    },
    {
      "cell_type": "code",
      "source": [
        "#Printing all the primes less than a given number\n",
        "def prime(n):\n",
        "    for i in range(2, int(n/2)+1):\n",
        "        if n % i == 0:\n",
        "            return False\n",
        "    return True\n",
        "def print_primes(num):\n",
        "    print(f\"primes less than {num} are: \")\n",
        "    for n in range(2, num):\n",
        "        if prime(n):\n",
        "            print(n , \" \")\n",
        "\n",
        "number = int(input(\"enter number: \"))\n",
        "print_primes(number)"
      ],
      "metadata": {
        "colab": {
          "base_uri": "https://localhost:8080/"
        },
        "id": "FKNYhEaWDgsp",
        "outputId": "e4eed0ca-80ca-4e2d-d76c-1aae30115628"
      },
      "execution_count": null,
      "outputs": [
        {
          "output_type": "stream",
          "name": "stdout",
          "text": [
            "enter number: 21\n",
            "primes less than 21 are: \n",
            "2  \n",
            "3  \n",
            "5  \n",
            "7  \n",
            "11  \n",
            "13  \n",
            "17  \n",
            "19  \n"
          ]
        }
      ]
    }
  ]
}