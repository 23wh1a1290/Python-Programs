{
  "nbformat": 4,
  "nbformat_minor": 0,
  "metadata": {
    "colab": {
      "provenance": []
    },
    "kernelspec": {
      "name": "python3",
      "display_name": "Python 3"
    },
    "language_info": {
      "name": "python"
    }
  },
  "cells": [
    {
      "cell_type": "code",
      "execution_count": null,
      "metadata": {
        "colab": {
          "base_uri": "https://localhost:8080/"
        },
        "id": "GdNLDvw2S1PT",
        "outputId": "5e692952-048b-413c-b19e-2c31c709261c"
      },
      "outputs": [
        {
          "output_type": "stream",
          "name": "stdout",
          "text": [
            "enter the angle in radians: 20\n",
            "20 is equal to 1145.9155902616465\n"
          ]
        }
      ],
      "source": [
        "#convert radians to degrees\n",
        "import math\n",
        "def rad_to_deg(radian):\n",
        "    degree = radian * (180 / math.pi)\n",
        "    return degree\n",
        "radian = int(input(\"enter the angle in radians: \"))\n",
        "res = rad_to_deg(radian)\n",
        "print(f\"{radian} is equal to {res}\")"
      ]
    },
    {
      "cell_type": "code",
      "source": [
        "#sort a list\n",
        "def sort_num(num, order):\n",
        "    if order == \"asc\":\n",
        "        return sorted(num)\n",
        "    elif order == \"desc\":\n",
        "        return sorted(num, reverse=True)\n",
        "    elif order == \"none\":\n",
        "        return num\n",
        "    else:\n",
        "        return \"Invalid order\"\n",
        "\n",
        "numbers_list = [2,9,1,90,7,5,10,]\n",
        "sorted_list_asc = sort_num(numbers_list, \"asc\")\n",
        "print(sorted_list_asc)\n",
        "sorted_list_desc = sort_num(numbers_list, \"desc\")\n",
        "print(sorted_list_desc)\n",
        "original_list = sort_num(numbers_list, \"none\")\n",
        "print(original_list)"
      ],
      "metadata": {
        "id": "HRxqxI7CV277",
        "colab": {
          "base_uri": "https://localhost:8080/"
        },
        "outputId": "1a6d0250-6683-4e3b-9210-398507e02ded"
      },
      "execution_count": null,
      "outputs": [
        {
          "output_type": "stream",
          "name": "stdout",
          "text": [
            "[1, 2, 5, 7, 9, 10, 90]\n",
            "[90, 10, 9, 7, 5, 2, 1]\n",
            "[2, 9, 1, 90, 7, 5, 10]\n"
          ]
        }
      ]
    },
    {
      "cell_type": "code",
      "source": [
        "#convert decimal to binary\n",
        "def convertToBinary(n):\n",
        "   if n > 1:\n",
        "       convertToBinary(n//2)\n",
        "   print(n % 2,end = '')\n",
        "\n",
        "decimal = int(input(\"enter decimal number: \"))\n",
        "convertToBinary(decimal)\n",
        "print()\n"
      ],
      "metadata": {
        "id": "sAx1uANlV3JN",
        "colab": {
          "base_uri": "https://localhost:8080/"
        },
        "outputId": "ddaad0ec-dc6a-4ac7-f98b-1c675faeced5"
      },
      "execution_count": null,
      "outputs": [
        {
          "output_type": "stream",
          "name": "stdout",
          "text": [
            "enter decimal number: 46\n",
            "101110\n"
          ]
        }
      ]
    },
    {
      "cell_type": "code",
      "source": [
        "#counting vowels in a string\n",
        "def count(vowel):\n",
        "    vowels = ['a' , 'e', 'i', 'o', 'u']\n",
        "    count = 0\n",
        "    for i in vowel:\n",
        "        if i in vowels:\n",
        "            count += 1\n",
        "    return count\n",
        "n = input(\"enter a string: \")\n",
        "result = count(n)\n",
        "print(result)\n"
      ],
      "metadata": {
        "id": "ArCfaCJoV3Sv",
        "colab": {
          "base_uri": "https://localhost:8080/"
        },
        "outputId": "fc5708df-2726-4f71-de62-8f8915ff601a"
      },
      "execution_count": null,
      "outputs": [
        {
          "output_type": "stream",
          "name": "stdout",
          "text": [
            "enter a string: india is my country\n",
            "6\n"
          ]
        }
      ]
    },
    {
      "cell_type": "code",
      "source": [
        "def credit_card_number(card_number):\n",
        "\n",
        "    if len(card_number) < 4:\n",
        "        return \"Invalid number\"\n",
        "\n",
        "    hidden_part = '*' * (len(card_number) - 4)\n",
        "    visible_part = card_number[-4:]\n",
        "\n",
        "    return hidden_part + visible_part\n",
        "n = input(\"enter credit card number: \")\n",
        "hidden_number = credit_card_number(n)\n",
        "print(hidden_number)\n"
      ],
      "metadata": {
        "id": "BL4gMrhYV4L3",
        "colab": {
          "base_uri": "https://localhost:8080/"
        },
        "outputId": "8cb1b2c9-452e-4148-f91a-630418bf3dd8"
      },
      "execution_count": null,
      "outputs": [
        {
          "output_type": "stream",
          "name": "stdout",
          "text": [
            "enter credit card number: 56748499333\n",
            "*******9333\n"
          ]
        }
      ]
    },
    {
      "cell_type": "code",
      "source": [
        "# counting xs and os\n",
        "def count_x_and_O(string):\n",
        "    x = string.count('x')\n",
        "    o = string.count('o')\n",
        "    return x == o\n",
        "string = \"Xxxooox\"\n",
        "result = count_x_and_O(string)\n",
        "print(result)\n",
        "\n"
      ],
      "metadata": {
        "id": "df1mq-hMV4XA",
        "colab": {
          "base_uri": "https://localhost:8080/"
        },
        "outputId": "b61d19dc-eeb3-4650-8e72-8970651878d2"
      },
      "execution_count": null,
      "outputs": [
        {
          "output_type": "stream",
          "name": "stdout",
          "text": [
            "True\n"
          ]
        }
      ]
    },
    {
      "cell_type": "code",
      "source": [
        "#calculator\n",
        "def calculate(x, operator, y):\n",
        "    if operator == '+':\n",
        "        return x + y\n",
        "    elif operator == '-':\n",
        "        return x - y\n",
        "    elif operator == '/':\n",
        "        return x / y\n",
        "    elif operator == '*':\n",
        "        return x * y\n",
        "    else:\n",
        "        return \"Error: Invalid operator\"\n",
        "\n",
        "result = calculate(6, '*', 4)\n",
        "print(result)\n"
      ],
      "metadata": {
        "colab": {
          "base_uri": "https://localhost:8080/"
        },
        "id": "mtdyfdjhCprx",
        "outputId": "408475b4-2877-495f-e694-1d54aa8a50e9"
      },
      "execution_count": null,
      "outputs": [
        {
          "output_type": "stream",
          "name": "stdout",
          "text": [
            "24\n"
          ]
        }
      ]
    },
    {
      "cell_type": "code",
      "source": [
        "#give me the discount\n",
        "def calculate_discount(original, discount):\n",
        "    total = original -(original * discount/100)\n",
        "    return total\n",
        "n = int(input(\"enter the price: \"))\n",
        "discount = int(input(\"enter the discount: \"))\n",
        "total_price = calculate_discount(n, discount)\n",
        "print(total_price)\n"
      ],
      "metadata": {
        "colab": {
          "base_uri": "https://localhost:8080/"
        },
        "id": "zB3HHZrNGDCP",
        "outputId": "6e8a6ac7-8e5e-4d64-81f5-dce0f7518be3"
      },
      "execution_count": null,
      "outputs": [
        {
          "output_type": "stream",
          "name": "stdout",
          "text": [
            "enter the price: 100\n",
            "enter the discount: 20\n",
            "80.0\n"
          ]
        }
      ]
    },
    {
      "cell_type": "code",
      "source": [
        "#returning only nonnegative integers from list of mixed items\n",
        "def items(integers):\n",
        "    result = []\n",
        "    for element in integers:\n",
        "        if isinstance(element, int) and element > 0:\n",
        "            result.append(element)\n",
        "    return result\n",
        "list1 = [\"apple\", 4, -5, 9,\"kiwi\", 7]\n",
        "res = items(list1)\n",
        "print(res)\n",
        "\n"
      ],
      "metadata": {
        "colab": {
          "base_uri": "https://localhost:8080/"
        },
        "id": "nD6ZEiBHV4p8",
        "outputId": "fa6734b7-1083-4149-9e01-1ad5bae98dc2"
      },
      "execution_count": null,
      "outputs": [
        {
          "output_type": "stream",
          "name": "stdout",
          "text": [
            "[4, 9, 7]\n"
          ]
        }
      ]
    },
    {
      "cell_type": "code",
      "source": [
        "#Create a Python function that accepts a string. The function should return a string, with each character in the original string doubled.\n",
        "def string(character):\n",
        "    res = \" \"\n",
        "    for char in character:\n",
        "        res += char * 2\n",
        "    return res\n",
        "n = input(\"enter a string: \")\n",
        "result = string(n)\n",
        "print(result)\n",
        "\n",
        "\n"
      ],
      "metadata": {
        "colab": {
          "base_uri": "https://localhost:8080/"
        },
        "id": "V14jZvvZHq4N",
        "outputId": "9e636478-d7f5-4cfe-ae59-c5299f14b523"
      },
      "execution_count": null,
      "outputs": [
        {
          "output_type": "stream",
          "name": "stdout",
          "text": [
            "enter a string: cherry\n",
            " cchheerrrryy\n"
          ]
        }
      ]
    }
  ]
}